{
 "cells": [
  {
   "cell_type": "code",
   "execution_count": null,
   "id": "bc512e16",
   "metadata": {},
   "outputs": [
    {
     "name": "stderr",
     "output_type": "stream",
     "text": [
      "2025-04-20 02:02:57.931 python[82710:8508909] +[IMKClient subclass]: chose IMKClient_Modern\n",
      "2025-04-20 02:02:57.931 python[82710:8508909] +[IMKInputSession subclass]: chose IMKInputSession_Modern\n"
     ]
    },
    {
     "name": "stdout",
     "output_type": "stream",
     "text": [
      "LOWER: [0 0 0]\n",
      "UPPER: [179 255 255]\n"
     ]
    },
    {
     "ename": "",
     "evalue": "",
     "output_type": "error",
     "traceback": [
      "\u001b[1;31mThe Kernel crashed while executing code in the current cell or a previous cell. \n",
      "\u001b[1;31mPlease review the code in the cell(s) to identify a possible cause of the failure. \n",
      "\u001b[1;31mClick <a href='https://aka.ms/vscodeJupyterKernelCrash'>here</a> for more info. \n",
      "\u001b[1;31mView Jupyter <a href='command:jupyter.viewOutput'>log</a> for further details."
     ]
    }
   ],
   "source": [
    "import cv2\n",
    "import numpy as np\n",
    " \n",
    "def nothing(x):\n",
    "    pass\n",
    " \n",
    "# Open webcam\n",
    "cap = cv2.VideoCapture(0)\n",
    " \n",
    "# Create a window\n",
    "cv2.namedWindow(\"HSV Tuner\")\n",
    " \n",
    "# Create trackbars for lower HSV\n",
    "cv2.createTrackbar(\"Low H\", \"HSV Tuner\", 0, 179, nothing)\n",
    "cv2.createTrackbar(\"Low S\", \"HSV Tuner\", 0, 255, nothing)\n",
    "cv2.createTrackbar(\"Low V\", \"HSV Tuner\", 0, 255, nothing)\n",
    " \n",
    "# Create trackbars for upper HSV\n",
    "cv2.createTrackbar(\"High H\", \"HSV Tuner\", 179, 179, nothing)\n",
    "cv2.createTrackbar(\"High S\", \"HSV Tuner\", 255, 255, nothing)\n",
    "cv2.createTrackbar(\"High V\", \"HSV Tuner\", 255, 255, nothing)\n",
    " \n",
    "while True:\n",
    "    ret, frame = cap.read()\n",
    "    if not ret:\n",
    "        break\n",
    " \n",
    "    frame = cv2.flip(frame, 1)\n",
    "    hsv = cv2.cvtColor(frame, cv2.COLOR_BGR2HSV)\n",
    " \n",
    "    # Get current positions of all trackbars\n",
    "    l_h = cv2.getTrackbarPos(\"Low H\", \"HSV Tuner\")\n",
    "    l_s = cv2.getTrackbarPos(\"Low S\", \"HSV Tuner\")\n",
    "    l_v = cv2.getTrackbarPos(\"Low V\", \"HSV Tuner\")\n",
    "    u_h = cv2.getTrackbarPos(\"High H\", \"HSV Tuner\")\n",
    "    u_s = cv2.getTrackbarPos(\"High S\", \"HSV Tuner\")\n",
    "    u_v = cv2.getTrackbarPos(\"High V\", \"HSV Tuner\")\n",
    " \n",
    "    lower = np.array([l_h, l_s, l_v])\n",
    "    upper = np.array([u_h, u_s, u_v])\n",
    " \n",
    "    mask = cv2.inRange(hsv, lower, upper)\n",
    "    result = cv2.bitwise_and(frame, frame, mask=mask)\n",
    " \n",
    "    combined = np.hstack((frame, result))\n",
    "    cv2.imshow(\"HSV Tuner\", combined)\n",
    " \n",
    "    if cv2.waitKey(1) & 0xFF == ord('q'):\n",
    "        print(\"LOWER:\", lower)\n",
    "        print(\"UPPER:\", upper)\n",
    "        break\n",
    " \n",
    "cap.release()\n",
    "cv2.destroyAllWindows()\n",
    " "
   ]
  },
  {
   "cell_type": "code",
   "execution_count": null,
   "id": "a7eec513",
   "metadata": {},
   "outputs": [],
   "source": []
  }
 ],
 "metadata": {
  "kernelspec": {
   "display_name": "base",
   "language": "python",
   "name": "python3"
  },
  "language_info": {
   "codemirror_mode": {
    "name": "ipython",
    "version": 3
   },
   "file_extension": ".py",
   "mimetype": "text/x-python",
   "name": "python",
   "nbconvert_exporter": "python",
   "pygments_lexer": "ipython3",
   "version": "3.9.19"
  }
 },
 "nbformat": 4,
 "nbformat_minor": 5
}
